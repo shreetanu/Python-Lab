{
 "cells": [
  {
   "cell_type": "code",
   "execution_count": null,
   "metadata": {},
   "outputs": [],
   "source": [
    "num=input(\"Enter the value of n\")\n",
    "for i in range(1, (int)(num)):\n",
    "    if i%2==0 :\n",
    "        print(i)"
   ]
  },
  {
   "cell_type": "code",
   "execution_count": 1,
   "metadata": {},
   "outputs": [
    {
     "name": "stdout",
     "output_type": "stream",
     "text": [
      "Enter a number34\n",
      "Not a Prime Number\n"
     ]
    }
   ],
   "source": [
    "num=input(\"Enter a number\")\n",
    "count=0\n",
    "for i in range(2, int(num)):\n",
    "   if int(num)%i==0:\n",
    "    count=count+1\n",
    "if count==0:\n",
    "    print(\"Prime Number\")\n",
    "else:\n",
    "    print(\"Not a Prime Number\")"
   ]
  },
  {
   "cell_type": "code",
   "execution_count": null,
   "metadata": {},
   "outputs": [],
   "source": [
    "num=input(\"Enter a number\")\n",
    "first=0\n",
    "second=1\n",
    "for i in range(int(num)):\n",
    "    print(first)\n",
    "    temp=first+second\n",
    "    first=second\n",
    "    second=temp"
   ]
  },
  {
   "cell_type": "code",
   "execution_count": null,
   "metadata": {},
   "outputs": [],
   "source": [
    "num=input(\"Enter a number\")\n",
    "sum=0\n",
    "for i in range(int(num)):\n",
    "    sum=sum+i\n",
    "print(sum)"
   ]
  },
  {
   "cell_type": "code",
   "execution_count": null,
   "metadata": {},
   "outputs": [],
   "source": [
    "\n",
    "num=input(\"Enter a number\")\n",
    "for i in range(2,int(num)):\n",
    "   if i > 1:\n",
    "       for j in range(2, i):\n",
    "           if (i % j) == 0:\n",
    "               break\n",
    "       else:\n",
    "           print(i)"
   ]
  },
  {
   "cell_type": "code",
   "execution_count": null,
   "metadata": {},
   "outputs": [],
   "source": [
    "num = int(input(\"Enter a number\"))\n",
    "sum = 0\n",
    "temp = num\n",
    "while temp > 0:\n",
    "   rem = temp % 10\n",
    "   sum = sum + rem ** 3\n",
    "   temp= int(temp/10)\n",
    "if num == sum:\n",
    "   print(num,\"is an Armstrong number\")\n",
    "else:\n",
    "   print(num,\"is not an Armstrong number\")"
   ]
  },
  {
   "cell_type": "code",
   "execution_count": null,
   "metadata": {},
   "outputs": [],
   "source": [
    "import math\n",
    "num = int(input(\"Enter a number\"))\n",
    "sqrt = int(math.sqrt(num))\n",
    "if sqrt*sqrt==num:\n",
    "    print(\"Perfect square\")\n",
    "else:\n",
    "    print(\"Not a perfect square\")"
   ]
  },
  {
   "cell_type": "code",
   "execution_count": null,
   "metadata": {},
   "outputs": [],
   "source": [
    "num=int(input(\"Enter a number\"))\n",
    "rev=0\n",
    "temp=num\n",
    "while(num>0):\n",
    "    rem=num%10\n",
    "    if rev!=0:\n",
    "        rev=(rev*10)+rem\n",
    "    else:\n",
    "        rev=rem\n",
    "    num=int(num/10)\n",
    "\n",
    "if temp==rev:\n",
    "    print(\"Palindrome\")\n",
    "else:\n",
    "    print(\"Not a Palindrome\")"
   ]
  },
  {
   "cell_type": "code",
   "execution_count": null,
   "metadata": {},
   "outputs": [],
   "source": [
    "num=int(input(\"Enter a number\"))\n",
    "fact=1\n",
    "while num>0:\n",
    "    fact=fact*num\n",
    "    num=num-1\n",
    "print(fact)"
   ]
  },
  {
   "cell_type": "code",
   "execution_count": 2,
   "metadata": {},
   "outputs": [
    {
     "name": "stdout",
     "output_type": "stream",
     "text": [
      "Enter a year2020\n",
      "2020 is a leap year\n"
     ]
    }
   ],
   "source": [
    "year=int(input(\"Enter a year\"))\n",
    "if (year % 4)==0:\n",
    "   if (year % 100)==0:\n",
    "       if (year % 400)==0:\n",
    "           print(year,\" is a leap year\")\n",
    "       else:\n",
    "           print(year,\" is not a leap year\")\n",
    "   else:\n",
    "       print(year,\"is a leap year\")\n",
    "else:\n",
    "   print(year,\"is not a leap year\")"
   ]
  },
  {
   "cell_type": "code",
   "execution_count": 4,
   "metadata": {},
   "outputs": [
    {
     "name": "stdout",
     "output_type": "stream",
     "text": [
      "Enter the value of n3\n",
      "2\n",
      "5\n",
      "10\n"
     ]
    }
   ],
   "source": [
    "n=int(input(\"Enter the value of n\"))\n",
    "initial=2\n",
    "inc=3\n",
    "for i in range(n):\n",
    "    print(initial)\n",
    "    initial+=inc\n",
    "    inc+=2"
   ]
  },
  {
   "cell_type": "code",
   "execution_count": null,
   "metadata": {},
   "outputs": [],
   "source": [
    "n=int(input(\"Enter a number\"))\n",
    "sum=0\n",
    "for i in range(2,n+1):\n",
    "    sum+=((i*i)/(i+1))\n",
    "print(sum)"
   ]
  },
  {
   "cell_type": "code",
   "execution_count": null,
   "metadata": {},
   "outputs": [],
   "source": [
    "x=int(input(\"Enter first number\"))\n",
    "y=int(input(\"Enter second number\"))\n",
    "if x>y:\n",
    "    min=y\n",
    "else:\n",
    "    min=x\n",
    "hcf=0\n",
    "for i in range(1,min+1):\n",
    "    if x%i==0 and y%i==0:\n",
    "        hcf=i\n",
    "print(hcf)"
   ]
  },
  {
   "cell_type": "code",
   "execution_count": null,
   "metadata": {},
   "outputs": [],
   "source": [
    "import cmath\n",
    "a=int(input(\"Enter a\"))\n",
    "b=int(input(\"Enter b\"))\n",
    "c=int(input(\"Enter c\"))\n",
    "d=(b**2)-(4*a*c)\n",
    "ans1=(-b+cmath.sqrt(d))/(2*a)\n",
    "ans2=(-b-cmath.sqrt(d))/(2*a)\n",
    "print(ans1,ans2)\n"
   ]
  },
  {
   "cell_type": "code",
   "execution_count": 5,
   "metadata": {},
   "outputs": [
    {
     "name": "stdout",
     "output_type": "stream",
     "text": [
      "153 is an Armstrong number\n",
      "370 is an Armstrong number\n",
      "371 is an Armstrong number\n",
      "407 is an Armstrong number\n"
     ]
    }
   ],
   "source": [
    "for i in range(2,501):\n",
    "    sum = 0\n",
    "    temp = int(i)\n",
    "    while temp > 0:\n",
    "        rem = temp % 10\n",
    "        sum = sum + rem ** 3\n",
    "        temp= int(temp/10)\n",
    "    if int(i) == sum:\n",
    "       print(i,\"is an Armstrong number\")"
   ]
  },
  {
   "cell_type": "code",
   "execution_count": null,
   "metadata": {},
   "outputs": [],
   "source": [
    "import math\n",
    "for num in range(1,501):\n",
    "    sqrt = int(math.sqrt(num))\n",
    "    if sqrt*sqrt==num:\n",
    "        print(num)"
   ]
  },
  {
   "cell_type": "code",
   "execution_count": null,
   "metadata": {},
   "outputs": [],
   "source": [
    "def fact(a):\n",
    "    fac=1\n",
    "    for i in range(1,a+1):\n",
    "        fac=fac*i\n",
    "    return fac\n",
    "n=int(input(\"Enter a number\"))\n",
    "sum=0\n",
    "for i in range(2,n+1):\n",
    "    sum+=((i**2)/fact(i))\n",
    "print(sum)"
   ]
  },
  {
   "cell_type": "code",
   "execution_count": null,
   "metadata": {},
   "outputs": [],
   "source": [
    "from math import factorial  \n",
    "n =int(input(\"Enter a number\")) \n",
    "for i in range(n):\n",
    "    print(\" \"*(n-i),end=\" \")\n",
    "    for j in range(i+1):\n",
    "        print(factorial(i)//(factorial(j)*factorial(i-j)), end=\" \") \n",
    "    print()"
   ]
  }
 ],
 "metadata": {
  "kernelspec": {
   "display_name": "Python 3",
   "language": "python",
   "name": "python3"
  },
  "language_info": {
   "codemirror_mode": {
    "name": "ipython",
    "version": 3
   },
   "file_extension": ".py",
   "mimetype": "text/x-python",
   "name": "python",
   "nbconvert_exporter": "python",
   "pygments_lexer": "ipython3",
   "version": "3.8.5"
  }
 },
 "nbformat": 4,
 "nbformat_minor": 4
}
