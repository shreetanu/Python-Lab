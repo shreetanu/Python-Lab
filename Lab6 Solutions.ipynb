{
 "cells": [
  {
   "cell_type": "code",
   "execution_count": null,
   "metadata": {},
   "outputs": [],
   "source": [
    "#LAB 6\n",
    "#WAP to read a file and print the number of characters, words and lines it has\n",
    "l=0\n",
    "char=0\n",
    "w=0\n",
    "f = open(\"Hello.txt\",\"w\")  #Open a file in a write mode\n",
    "f.write(\"This is my first line of the file\\n\")\n",
    "f.write(\"This is the second line of the file\")\n",
    "f = open(\"Hello.txt\",\"r\") \n",
    "for line in f:\n",
    "    l+=1;\n",
    "f = open(\"Hello.txt\",\"r\") \n",
    "fo = f.read()  \n",
    "for i in fo:\n",
    "    char+=1;\n",
    "f = open(\"Hello.txt\",\"r\") \n",
    "for line in f:\n",
    "    lst=line.split()\n",
    "    w+=len(lst)\n",
    "f.close()\n",
    "print(\"Number of lines:\",l,\"Number of characters:\",char,\"Number of Words:\",w)"
   ]
  },
  {
   "cell_type": "code",
   "execution_count": null,
   "metadata": {},
   "outputs": [],
   "source": [
    "#WAP to read a file and count the number of vowels it has\n",
    "v=0\n",
    "f = open(\"Hello.txt\",\"w\")  #Open a file in a write mode\n",
    "f.write(\"This is my first line of the file\\n\")\n",
    "f.write(\"This is the second line of the file\")\n",
    "f = open(\"Hello.txt\",\"r\") \n",
    "fo = f.read()  \n",
    "for i in fo:\n",
    "    if i in ('a',\"e\",\"i\",\"o\",\"u\"):\n",
    "        v+=1;\n",
    "print(v)"
   ]
  },
  {
   "cell_type": "code",
   "execution_count": null,
   "metadata": {},
   "outputs": [],
   "source": [
    "#WAP to read a file and count the number of articles it has\n",
    "v=0\n",
    "f = open(\"Hello.txt\",\"w\")  #Open a file in a write mode\n",
    "f.write(\"This is my first line of the file\\n\")\n",
    "f.write(\"This is the second line of the file\")\n",
    "f = open(\"Hello.txt\",\"r\") \n",
    "for line in f:\n",
    "    lst=line.split()\n",
    "    for i in lst:\n",
    "        if i in (\"the\",\"an\",\"a\"):\n",
    "            v+=1\n",
    "print(v)"
   ]
  }
 ],
 "metadata": {
  "kernelspec": {
   "display_name": "Python 3",
   "language": "python",
   "name": "python3"
  },
  "language_info": {
   "codemirror_mode": {
    "name": "ipython",
    "version": 3
   },
   "file_extension": ".py",
   "mimetype": "text/x-python",
   "name": "python",
   "nbconvert_exporter": "python",
   "pygments_lexer": "ipython3",
   "version": "3.8.5"
  }
 },
 "nbformat": 4,
 "nbformat_minor": 4
}
