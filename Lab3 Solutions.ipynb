{
 "cells": [
  {
   "cell_type": "code",
   "execution_count": 1,
   "metadata": {},
   "outputs": [
    {
     "name": "stdout",
     "output_type": "stream",
     "text": [
      "naya\n",
      "No\n"
     ]
    }
   ],
   "source": [
    "#Lab 3\n",
    "#If the string is palindrome or not \n",
    "s =input()\n",
    "ans = s == s[::-1]\n",
    " \n",
    "if ans:\n",
    "    print(\"Yes\")\n",
    "else:\n",
    "    print(\"No\")\n",
    "    "
   ]
  },
  {
   "cell_type": "code",
   "execution_count": 2,
   "metadata": {},
   "outputs": [
    {
     "name": "stdout",
     "output_type": "stream",
     "text": [
      "hello me is\n",
      "Hello Me Is \n"
     ]
    }
   ],
   "source": [
    "#WAP that takes string as multiple words and then capitalize the first letter of each word and\n",
    "#forms a new string\n",
    "\n",
    "str=input()\n",
    "news=\"\"\n",
    "lstr = str.split()\n",
    "for i in lstr:\n",
    "    news=news+i.capitalize()+\" \" \n",
    "print(news)    \n"
   ]
  },
  {
   "cell_type": "code",
   "execution_count": 3,
   "metadata": {},
   "outputs": [
    {
     "name": "stdout",
     "output_type": "stream",
     "text": [
      "Enter a string:ghjgjshgd\n",
      "Maximum length consonant substring is :  "
     ]
    }
   ],
   "source": [
    "#WAP to read a string and display the longest substring of the given string having just the\n",
    "#consonants\n",
    "string = input(\"Enter a string:\")\n",
    "length = len(string)\n",
    "maxlength = 0\n",
    "maxsub =''             \n",
    "sub =''                 \n",
    "lensub = 0\n",
    "for a in range(length):\n",
    "   if string[a] in 'aeiou' or string[a] in 'AEIOU' :\n",
    "       maxsub = sub\n",
    "       maxlength = lensub\n",
    "       sub = ''\n",
    "       lensub = 0\n",
    "   else :\n",
    "       sub += string[a]\n",
    "       lensub = len(sub)\n",
    "   a += 1\n",
    "print (\"Maximum length consonant substring is :\" , maxsub, end = ' ')"
   ]
  },
  {
   "cell_type": "code",
   "execution_count": 4,
   "metadata": {},
   "outputs": [
    {
     "name": "stdout",
     "output_type": "stream",
     "text": [
      "hello\n",
      "HeLlO\n"
     ]
    }
   ],
   "source": [
    "#WAP to read a string and then prints a sting that capitalizes every other letter in the string\n",
    "#e.g. goel becomes gOeL\n",
    "s=input()\n",
    "ret = \"\"\n",
    "i = True  \n",
    "for char in s:\n",
    "    if i:\n",
    "        ret += char.upper()\n",
    "    else:\n",
    "        ret += char.lower()\n",
    "    if char != ' ':\n",
    "        i = not i\n",
    "print(ret)"
   ]
  },
  {
   "cell_type": "code",
   "execution_count": 5,
   "metadata": {},
   "outputs": [
    {
     "name": "stdout",
     "output_type": "stream",
     "text": [
      "tanushree@banasthali.in\n",
      "Belongs to banasthali.in domain\n"
     ]
    }
   ],
   "source": [
    "#WAP to read an email id of a person and vertify if it belongs to banasthali.in domain\n",
    "email=input()\n",
    "\n",
    "if (email.find('banasthali.in') != -1): \n",
    "    print (\"Belongs to banasthali.in domain\") \n",
    "else: \n",
    "    print (\"Doesn't belongs to banasthali.in domain\") "
   ]
  },
  {
   "cell_type": "code",
   "execution_count": 6,
   "metadata": {},
   "outputs": [
    {
     "name": "stdout",
     "output_type": "stream",
     "text": [
      "tanushree\n",
      "4\n",
      "5\n"
     ]
    }
   ],
   "source": [
    "#WAP to count the number of vowels and consonants in an input string\n",
    "vcount = 0;  \n",
    "ccount = 0;  \n",
    "str = input()\n",
    "str = str.lower();  \n",
    "for i in range(0,len(str)):    \n",
    "    if str[i] in ('a',\"e\",\"i\",\"o\",\"u\"):  \n",
    "        vcount = vcount + 1;  \n",
    "    elif (str[i] >= 'a' and str[i] <= 'z'):  \n",
    "        ccount = ccount + 1;  \n",
    "print(vcount);  \n",
    "print(ccount);  "
   ]
  },
  {
   "cell_type": "code",
   "execution_count": 7,
   "metadata": {},
   "outputs": [
    {
     "name": "stdout",
     "output_type": "stream",
     "text": [
      "a an apple is a bug\n",
      "3\n"
     ]
    }
   ],
   "source": [
    "#WAP to read a sentnece and count the articles it has\n",
    "str=input()\n",
    "s = str.lower()\n",
    "c=0\n",
    "llist = s.split() \n",
    "for i in llist:\n",
    "    if i in (\"the\",\"an\",\"a\"):\n",
    "        c+=1\n",
    "print(c)   "
   ]
  },
  {
   "cell_type": "code",
   "execution_count": 10,
   "metadata": {},
   "outputs": [
    {
     "name": "stdout",
     "output_type": "stream",
     "text": [
      "goog good\n",
      "Good String\n"
     ]
    }
   ],
   "source": [
    "#WAP to read a string and check if it has \"good\" in it\n",
    "str=input()\n",
    "s = str.lower()\n",
    "if string.find(\"good\"):\n",
    "    print(\"Good String\")\n",
    "else :\n",
    "    print(\"Not Good string\")"
   ]
  },
  {
   "cell_type": "code",
   "execution_count": null,
   "metadata": {},
   "outputs": [],
   "source": []
  }
 ],
 "metadata": {
  "kernelspec": {
   "display_name": "Python 3",
   "language": "python",
   "name": "python3"
  },
  "language_info": {
   "codemirror_mode": {
    "name": "ipython",
    "version": 3
   },
   "file_extension": ".py",
   "mimetype": "text/x-python",
   "name": "python",
   "nbconvert_exporter": "python",
   "pygments_lexer": "ipython3",
   "version": "3.8.5"
  }
 },
 "nbformat": 4,
 "nbformat_minor": 4
}
