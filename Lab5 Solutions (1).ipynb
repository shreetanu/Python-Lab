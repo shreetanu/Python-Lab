{
 "cells": [
  {
   "cell_type": "code",
   "execution_count": 1,
   "metadata": {},
   "outputs": [],
   "source": [
    "def reveStr(str):\n",
    "    rstr = str[::-1]\n",
    "    return rstr"
   ]
  },
  {
   "cell_type": "code",
   "execution_count": 2,
   "metadata": {},
   "outputs": [
    {
     "data": {
      "text/plain": [
       "'eerhsunaT'"
      ]
     },
     "execution_count": 2,
     "metadata": {},
     "output_type": "execute_result"
    }
   ],
   "source": [
    "reveStr(\"Tanushree\")"
   ]
  },
  {
   "cell_type": "code",
   "execution_count": 12,
   "metadata": {},
   "outputs": [],
   "source": [
    "def ULi(li):\n",
    "    newli = []\n",
    "    li.sort()\n",
    "    for i in range(1,len(li)):\n",
    "        if li[i-1] != li[i] :\n",
    "            newli.append(li[i-1])\n",
    "    newli.append(li[len(li)-1])\n",
    "    return newli"
   ]
  },
  {
   "cell_type": "code",
   "execution_count": 13,
   "metadata": {},
   "outputs": [
    {
     "data": {
      "text/plain": [
       "[1, 2, 3, 4]"
      ]
     },
     "execution_count": 13,
     "metadata": {},
     "output_type": "execute_result"
    }
   ],
   "source": [
    "ULi([1,2,1,2,1,3,4])"
   ]
  },
  {
   "cell_type": "code",
   "execution_count": 16,
   "metadata": {},
   "outputs": [],
   "source": [
    "def pStr(str) :\n",
    "    newstr = str[::-1]\n",
    "    if newstr == str :\n",
    "        return True\n",
    "    else :\n",
    "        return False"
   ]
  },
  {
   "cell_type": "code",
   "execution_count": 18,
   "metadata": {},
   "outputs": [
    {
     "data": {
      "text/plain": [
       "False"
      ]
     },
     "execution_count": 18,
     "metadata": {},
     "output_type": "execute_result"
    }
   ],
   "source": [
    "pStr(\"priya\")"
   ]
  },
  {
   "cell_type": "code",
   "execution_count": 19,
   "metadata": {},
   "outputs": [
    {
     "data": {
      "text/plain": [
       "'anushree'"
      ]
     },
     "execution_count": 19,
     "metadata": {},
     "output_type": "execute_result"
    }
   ],
   "source": [
    "str = \"Tanushree\"\n",
    "str[1:]"
   ]
  },
  {
   "cell_type": "code",
   "execution_count": 22,
   "metadata": {},
   "outputs": [],
   "source": [
    "def recrevstr(str):\n",
    "    if len(str) == 0:\n",
    "        return str\n",
    "    return revstr(str[1:]) + str[0]"
   ]
  },
  {
   "cell_type": "code",
   "execution_count": 23,
   "metadata": {},
   "outputs": [
    {
     "data": {
      "text/plain": [
       "'eerhsunaT'"
      ]
     },
     "execution_count": 23,
     "metadata": {},
     "output_type": "execute_result"
    }
   ],
   "source": [
    "recrevstr(\"Tanushree\")"
   ]
  },
  {
   "cell_type": "code",
   "execution_count": 25,
   "metadata": {},
   "outputs": [
    {
     "data": {
      "text/plain": [
       "[2, 1, 3, 1, 4, 1]"
      ]
     },
     "execution_count": 25,
     "metadata": {},
     "output_type": "execute_result"
    }
   ],
   "source": [
    "mylist = [1,2,1,3,1,4,1]\n",
    "mylist[1:]"
   ]
  },
  {
   "cell_type": "code",
   "execution_count": 37,
   "metadata": {},
   "outputs": [
    {
     "name": "stdout",
     "output_type": "stream",
     "text": [
      "[1, 2, 3, 4, 5, 6, 7]\n"
     ]
    }
   ],
   "source": [
    "visited = list()\n",
    "def recUni(li,visited) :\n",
    "    if len(li) == 0 :\n",
    "        return visited\n",
    "    if li[0] not in visited :\n",
    "        visited.append(li[0])\n",
    "    return recUni(li[1:],visited)\n",
    "recUni([1,2,1,1,3,2,2,4,5,5,5,6,7,6],visited)\n",
    "print(visited)"
   ]
  },
  {
   "cell_type": "code",
   "execution_count": 42,
   "metadata": {},
   "outputs": [],
   "source": [
    "def isPalRec(st, s, e) : \n",
    "      \n",
    "    if (s == e): \n",
    "        return True\n",
    "  \n",
    "    if (st[s] != st[e]) : \n",
    "        return False\n",
    "  \n",
    "    if (s < e + 1) : \n",
    "        return isPalRec(st, s + 1, e - 1); \n",
    "  \n",
    "    return True\n",
    "\n"
   ]
  },
  {
   "cell_type": "code",
   "execution_count": 46,
   "metadata": {},
   "outputs": [
    {
     "name": "stdout",
     "output_type": "stream",
     "text": [
      "Yes\n"
     ]
    }
   ],
   "source": [
    "st = \"nayan\"\n",
    "k = len(st)\n",
    "if isPalRec(st, 0, k-1) :\n",
    "    print(\"Yes\")\n",
    "else :\n",
    "    print(\"No\")"
   ]
  },
  {
   "cell_type": "code",
   "execution_count": 1,
   "metadata": {},
   "outputs": [
    {
     "name": "stdout",
     "output_type": "stream",
     "text": [
      "1.5\n"
     ]
    }
   ],
   "source": [
    "#returns x**2/x!\n",
    "def func(x):\n",
    "    def fact():\n",
    "        nonlocal x\n",
    "        prod=1\n",
    "        for i in range(1,x+1):\n",
    "            prod=prod*i\n",
    "        return x**2/prod\n",
    "    return fact\n",
    "f=func(3)\n",
    "print(f())"
   ]
  },
  {
   "cell_type": "code",
   "execution_count": 2,
   "metadata": {},
   "outputs": [
    {
     "name": "stdout",
     "output_type": "stream",
     "text": [
      "2 4 6 8 10 "
     ]
    }
   ],
   "source": [
    "def evenSeries(n):\n",
    "    for i in range(1,n+1):\n",
    "        if i%2==0:\n",
    "            print(i,end=\" \")\n",
    "evenSeries(10)"
   ]
  },
  {
   "cell_type": "code",
   "execution_count": 3,
   "metadata": {},
   "outputs": [
    {
     "name": "stdout",
     "output_type": "stream",
     "text": [
      "False\n"
     ]
    }
   ],
   "source": [
    "def isPrime(n):\n",
    "    for i in range(2,n):\n",
    "        if n%i==0:\n",
    "            return False\n",
    "    return True\n",
    "print(isPrime(123))"
   ]
  },
  {
   "cell_type": "code",
   "execution_count": 4,
   "metadata": {},
   "outputs": [
    {
     "name": "stdout",
     "output_type": "stream",
     "text": [
      "2\n",
      "4\n",
      "6\n",
      "8\n",
      "10\n"
     ]
    }
   ],
   "source": [
    "def evenSeries(n):\n",
    "    if n==1:\n",
    "        return\n",
    "    evenSeries(n-1)\n",
    "    if n%2==0:\n",
    "        print(n)\n",
    "    \n",
    "evenSeries(10)"
   ]
  },
  {
   "cell_type": "code",
   "execution_count": 5,
   "metadata": {},
   "outputs": [
    {
     "name": "stdout",
     "output_type": "stream",
     "text": [
      "Enter a number66\n",
      "True\n"
     ]
    }
   ],
   "source": [
    "def isPrime(n,i):\n",
    "    if i==1:\n",
    "        return True\n",
    "    elif n%i==0:\n",
    "        return False\n",
    "    else:\n",
    "        \n",
    "        isPrime(n,i-1)\n",
    "        return True\n",
    "n=int(input(\"Enter a number\"))\n",
    "print(bool(isPrime(n,n-1)))"
   ]
  },
  {
   "cell_type": "code",
   "execution_count": 6,
   "metadata": {},
   "outputs": [
    {
     "name": "stdout",
     "output_type": "stream",
     "text": [
      "Enter low7\n",
      "Enter high9\n",
      "7\n"
     ]
    }
   ],
   "source": [
    "def isPrime(n,i):\n",
    "    if i==1:\n",
    "        print(n)\n",
    "        return True\n",
    "    elif n%i==0:\n",
    "        return False\n",
    "    else:\n",
    "        isPrime(n,i-1)\n",
    "        return True\n",
    "low=int(input(\"Enter low\"))\n",
    "high=int(input(\"Enter high\"))\n",
    "if(low==1):low+=1\n",
    "for i in range(low,high+1):\n",
    "    isPrime(i,i-1)"
   ]
  },
  {
   "cell_type": "code",
   "execution_count": 7,
   "metadata": {},
   "outputs": [
    {
     "name": "stdout",
     "output_type": "stream",
     "text": [
      "enter first number3\n",
      "enter second number1\n",
      "enter third number8\n",
      "Max number is  8\n"
     ]
    }
   ],
   "source": [
    "def maximum(a, b, c): \n",
    "\n",
    "    if (a >= b) and (a >= c): \n",
    "        largest = a \n",
    "\n",
    "    elif (b >= a) and (b >= c): \n",
    "        largest = b \n",
    "    else: \n",
    "        largest = c \n",
    "\n",
    "    return largest \n",
    "\n",
    "\n",
    " \n",
    "a=input(\"enter first number\")\n",
    "b=input(\"enter second number\")\n",
    "c=input(\"enter third number\")\n",
    "print(\"Max number is \", maximum(a, b, c)) "
   ]
  },
  {
   "cell_type": "code",
   "execution_count": 8,
   "metadata": {},
   "outputs": [
    {
     "name": "stdout",
     "output_type": "stream",
     "text": [
      "20\n"
     ]
    }
   ],
   "source": [
    "def sum(numbers):\n",
    "    total = 0\n",
    "    for x in numbers:\n",
    "        total += x\n",
    "    return total\n",
    "print(sum((8, 2, 3, 0, 7)))"
   ]
  },
  {
   "cell_type": "code",
   "execution_count": 9,
   "metadata": {},
   "outputs": [
    {
     "name": "stdout",
     "output_type": "stream",
     "text": [
      "0\n"
     ]
    }
   ],
   "source": [
    "def mull(numbers):\n",
    "    total = 1\n",
    "    for x in numbers:\n",
    "        total *= x\n",
    "    return total\n",
    "print(mull((8, 2, 3, 0, 7)))"
   ]
  },
  {
   "cell_type": "code",
   "execution_count": 10,
   "metadata": {},
   "outputs": [
    {
     "name": "stdout",
     "output_type": "stream",
     "text": [
      "Enter lower range: 1\n",
      "Enter upper range: 8\n",
      "2\n",
      "3\n",
      "5\n",
      "7\n"
     ]
    }
   ],
   "source": [
    "def intervalprime(lower,upper):\n",
    "    for num in range(lower,upper+1):\n",
    "  \n",
    "       if num > 1:\n",
    "           for i in range(2, num):\n",
    "               if (num % i) == 0:\n",
    "                   break\n",
    "           else:\n",
    "               print(num)\n",
    "lower = int(input(\"Enter lower range: \"))  \n",
    "upper = int(input(\"Enter upper range: \")) \n",
    "intervalprime(lower,upper)"
   ]
  },
  {
   "cell_type": "code",
   "execution_count": 11,
   "metadata": {},
   "outputs": [
    {
     "name": "stdout",
     "output_type": "stream",
     "text": [
      "Enter the number of elements for list:3\n",
      "Enter element:8\n",
      "Enter element:7\n",
      "Enter element:6\n",
      "Sum of items in list:\n",
      "21\n"
     ]
    }
   ],
   "source": [
    "def sum_arr(arr,size):\n",
    "    if (size == 0):\n",
    "        return 0\n",
    "    else:\n",
    "        return arr[size-1] + sum_arr(arr,size-1)\n",
    "n=int(input(\"Enter the number of elements for list:\"))\n",
    "a=[]\n",
    "for i in range(0,n):\n",
    "    element=int(input(\"Enter element:\"))\n",
    "    a.append(element)\n",
    "print(\"Sum of items in list:\")\n",
    "b=sum_arr(a,n)\n",
    "print(b)"
   ]
  },
  {
   "cell_type": "code",
   "execution_count": 12,
   "metadata": {},
   "outputs": [
    {
     "name": "stdout",
     "output_type": "stream",
     "text": [
      "Enter the number of elements for list:2\n",
      "Enter element:44\n",
      "Enter element:32\n",
      "Sum of items in list:\n",
      "1408\n"
     ]
    }
   ],
   "source": [
    "def mul_arr(arr,size):\n",
    "    if (size == 0):\n",
    "        return 1\n",
    "    else:\n",
    "        return arr[size-1] * mul_arr(arr,size-1)\n",
    "n=int(input(\"Enter the number of elements for list:\"))\n",
    "a=[]\n",
    "for i in range(0,n):\n",
    "    element=int(input(\"Enter element:\"))\n",
    "    a.append(element)\n",
    "print(\"Sum of items in list:\")\n",
    "b=mul_arr(a,n)\n",
    "print(b)"
   ]
  },
  {
   "cell_type": "code",
   "execution_count": null,
   "metadata": {},
   "outputs": [],
   "source": []
  }
 ],
 "metadata": {
  "kernelspec": {
   "display_name": "Python 3",
   "language": "python",
   "name": "python3"
  },
  "language_info": {
   "codemirror_mode": {
    "name": "ipython",
    "version": 3
   },
   "file_extension": ".py",
   "mimetype": "text/x-python",
   "name": "python",
   "nbconvert_exporter": "python",
   "pygments_lexer": "ipython3",
   "version": "3.8.5"
  }
 },
 "nbformat": 4,
 "nbformat_minor": 4
}
