{
 "cells": [
  {
   "cell_type": "code",
   "execution_count": 10,
   "metadata": {},
   "outputs": [
    {
     "name": "stdout",
     "output_type": "stream",
     "text": [
      "The minimum is  12\n",
      "The index is  6\n"
     ]
    }
   ],
   "source": [
    "l = [99,89,23,45,67,90,12]\n",
    "minn = l[0]\n",
    "ind = 0\n",
    "for k in l :\n",
    "    if k < minn :\n",
    "        minn = k\n",
    "        ind = l.index(k)\n",
    "print(\"The minimum is \",minn)\n",
    "print(\"The index is \",ind)"
   ]
  },
  {
   "cell_type": "code",
   "execution_count": 12,
   "metadata": {},
   "outputs": [
    {
     "name": "stdout",
     "output_type": "stream",
     "text": [
      "The mean is  60.714285714285715\n"
     ]
    }
   ],
   "source": [
    "sumn = 0\n",
    "x = len(l)\n",
    "for k in l :\n",
    "    sumn+=k\n",
    "mean = sumn/x\n",
    "print(\"The mean is \",mean)\n",
    "    "
   ]
  },
  {
   "cell_type": "code",
   "execution_count": 17,
   "metadata": {},
   "outputs": [
    {
     "name": "stdout",
     "output_type": "stream",
     "text": [
      "Enter the size of the list 4\n",
      "Enter the element 1\n",
      "Enter the element 34\n",
      "Enter the element 22\n",
      "Enter the element 21\n",
      "Enter the element to be searched 34\n",
      "Number found at index  2\n"
     ]
    }
   ],
   "source": [
    "myList = []\n",
    "n = int(input(\"Enter the size of the list \"))\n",
    "for i in range(0,n) :\n",
    "    x = int(input(\"Enter the element \"))\n",
    "    myList.append(x)\n",
    "ele = int(input(\"Enter the element to be searched \"))\n",
    "f = 0\n",
    "for i in myList :\n",
    "    if i == ele :\n",
    "        print(\"Number found at index \", myList.index(i)+1)\n",
    "        f=1\n",
    "        break\n",
    "if f==0 :\n",
    "    print(\"Element not found\")"
   ]
  },
  {
   "cell_type": "code",
   "execution_count": 26,
   "metadata": {},
   "outputs": [
    {
     "name": "stdout",
     "output_type": "stream",
     "text": [
      "Enter the element 3\n",
      "The frequency is  1\n"
     ]
    }
   ],
   "source": [
    "li = [1,1,1,99,2,2,3,2,5,5]\n",
    "x = int(input(\"Enter the element \"))\n",
    "print(\"The frequency is \",li.count(x))\n",
    "    "
   ]
  },
  {
   "cell_type": "code",
   "execution_count": 27,
   "metadata": {},
   "outputs": [
    {
     "name": "stdout",
     "output_type": "stream",
     "text": [
      "The count of  1  is  3\n",
      "The count of  2  is  3\n",
      "The count of  3  is  1\n",
      "The count of  5  is  2\n",
      "The count of  99  is  1\n"
     ]
    }
   ],
   "source": [
    "li.sort()\n",
    "count = 1\n",
    "for i in range(1,len(li)) :\n",
    "    if li[i-1] == li[i] :\n",
    "        count+=1\n",
    "    else :\n",
    "        print(\"The count of \",li[i-1],\" is \",count)\n",
    "        count = 1\n",
    "print(\"The count of \",li[len(li)-1],\" is \",count)"
   ]
  },
  {
   "cell_type": "code",
   "execution_count": 28,
   "metadata": {},
   "outputs": [
    {
     "name": "stdout",
     "output_type": "stream",
     "text": [
      "The second largest element is  45\n"
     ]
    }
   ],
   "source": [
    "list1 = [10, 20, 4, 45, 99]\n",
    "list1.sort()\n",
    "print(\"The second largest element is \",list1[-2])"
   ]
  },
  {
   "cell_type": "code",
   "execution_count": 31,
   "metadata": {},
   "outputs": [
    {
     "name": "stdout",
     "output_type": "stream",
     "text": [
      "Enter the number of elements 8\n",
      "Enter the element 0\n",
      "Enter the element 2\n",
      "Enter the element 3\n",
      "Enter the element 0\n",
      "Enter the element 4\n",
      "Enter the element 0\n",
      "Enter the element 5\n",
      "Enter the element 1\n",
      "[2, 3, 4, 5, 1, 0, 0, 0]\n"
     ]
    }
   ],
   "source": [
    "n = int(input(\"Enter the number of elements \"))\n",
    "list2 = []\n",
    "count = 0;\n",
    "for i in range(0,n) :\n",
    "    x = int(input(\"Enter the element \"))\n",
    "    list2.append(x)\n",
    "    if x > 0 :\n",
    "        count+=1\n",
    "p = 0\n",
    "for i in list2 :\n",
    "    if i > 0 :\n",
    "        list2[p] = i\n",
    "        count-=1\n",
    "        p+=1\n",
    "for i in range(p+1,len(list2)) :\n",
    "    list2[i] = 0\n",
    "\n",
    "print(list2) "
   ]
  },
  {
   "cell_type": "code",
   "execution_count": 32,
   "metadata": {},
   "outputs": [
    {
     "name": "stdout",
     "output_type": "stream",
     "text": [
      "Enter the number of rows:2\n",
      "Enter the number of columns:2\n",
      "Enter the entries of matrix1 row wise:\n",
      "1\n",
      "2\n",
      "3\n",
      "4\n",
      "Enter the entries of matrix2 row wise:\n",
      "5\n",
      "6\n",
      "7\n",
      "8\n",
      "6 8 \n",
      "10 12 \n"
     ]
    }
   ],
   "source": [
    "R = int(input(\"Enter the number of rows:\")) \n",
    "C = int(input(\"Enter the number of columns:\")) \n",
    "  \n",
    "# Initialize matrix \n",
    "matrix1 = [] \n",
    "print(\"Enter the entries of matrix1 row wise:\") \n",
    "  \n",
    "# For user input \n",
    "for i in range(R):          # A for loop for row entries \n",
    "    a =[] \n",
    "    for j in range(C):      # A for loop for column entries \n",
    "         a.append(int(input())) \n",
    "    matrix1.append(a) \n",
    "    \n",
    "matrix2 = []\n",
    "print(\"Enter the entries of matrix2 row wise:\") \n",
    "\n",
    "for i in range(R):          # A for loop for row entries \n",
    "    a =[] \n",
    "    for j in range(C):      # A for loop for column entries \n",
    "         a.append(int(input())) \n",
    "    matrix2.append(a) \n",
    "    \n",
    "matrix3 = []\n",
    "for i in range(R) :\n",
    "    a = []\n",
    "    for j in range(C) :\n",
    "        a.append(matrix1[i][j]+matrix2[i][j])\n",
    "    matrix3.append(a)\n",
    "    \n",
    "for i in range(R): \n",
    "    for j in range(C): \n",
    "        print(matrix3[i][j], end = \" \") \n",
    "    print() "
   ]
  },
  {
   "cell_type": "code",
   "execution_count": 33,
   "metadata": {},
   "outputs": [
    {
     "name": "stdout",
     "output_type": "stream",
     "text": [
      "[114, 160, 60, 27]\n",
      "[74, 97, 73, 14]\n",
      "[119, 157, 112, 23]\n"
     ]
    }
   ],
   "source": [
    "\n",
    "X = [[12,7,3],\n",
    "    [4 ,5,6],\n",
    "    [7 ,8,9]]\n",
    "\n",
    "Y = [[5,8,1,2],\n",
    "    [6,7,3,0],\n",
    "    [4,5,9,1]]\n",
    "\n",
    "result = [[0,0,0,0],\n",
    "         [0,0,0,0],\n",
    "         [0,0,0,0]]\n",
    "\n",
    "\n",
    "for i in range(len(X)):\n",
    "   \n",
    "   for j in range(len(Y[0])):\n",
    "       \n",
    "       for k in range(len(Y)):\n",
    "           result[i][j] += X[i][k] * Y[k][j]\n",
    "\n",
    "for r in result:\n",
    "   print(r)"
   ]
  },
  {
   "cell_type": "code",
   "execution_count": 34,
   "metadata": {},
   "outputs": [
    {
     "name": "stdout",
     "output_type": "stream",
     "text": [
      "[12, 4, 3]\n",
      "[7, 5, 8]\n"
     ]
    }
   ],
   "source": [
    "\n",
    "X = [[12,7],\n",
    "    [4 ,5],\n",
    "    [3 ,8]]\n",
    "\n",
    "result = [[0,0,0],\n",
    "         [0,0,0]]\n",
    "\n",
    "\n",
    "for i in range(len(X)):\n",
    "   \n",
    "   for j in range(len(X[0])):\n",
    "       result[j][i] = X[i][j]\n",
    "\n",
    "for r in result:\n",
    "   print(r)"
   ]
  },
  {
   "cell_type": "code",
   "execution_count": 3,
   "metadata": {},
   "outputs": [
    {
     "name": "stdout",
     "output_type": "stream",
     "text": [
      "[45, 99] The sum of this slice is greater\n"
     ]
    }
   ],
   "source": [
    "l = [10, 20, 4, 45, 99]\n",
    "list1 = l[:3]\n",
    "list2 = l[3:5]\n",
    "sum1=0\n",
    "sum2=0\n",
    "for i in list1 :\n",
    "    sum1+=i\n",
    "for i in list2 :\n",
    "    sum2+=i\n",
    "if sum1 > sum2 :\n",
    "    print(list1, \"The sum of this slice is greater\")\n",
    "else :\n",
    "    print(list2, \"The sum of this slice is greater\")"
   ]
  },
  {
   "cell_type": "code",
   "execution_count": 5,
   "metadata": {},
   "outputs": [
    {
     "name": "stdout",
     "output_type": "stream",
     "text": [
      "Enter the number of rows:2\n",
      "Enter the number of columns:2\n",
      "Enter the entries row wise:\n",
      "1\n",
      "2\n",
      "3\n",
      "4\n",
      "Enter the number to be found 2\n",
      "found\n"
     ]
    }
   ],
   "source": [
    "R = int(input(\"Enter the number of rows:\")) \n",
    "C = int(input(\"Enter the number of columns:\")) \n",
    "  \n",
    "# Initialize matrix \n",
    "matrix = [] \n",
    "print(\"Enter the entries row wise:\") \n",
    "  \n",
    "# For user input \n",
    "for i in range(R):          # A for loop for row entries \n",
    "    a =[] \n",
    "    for j in range(C):      # A for loop for column entries \n",
    "         a.append(int(input())) \n",
    "    matrix.append(a) \n",
    "x = int(input(\"Enter the number to be found \"))\n",
    "flag = 0\n",
    "for i in range(R) :\n",
    "    for j in range(C) :\n",
    "        if matrix[i][j] == x :\n",
    "            flag = 1\n",
    "            break\n",
    "if flag == 0 :\n",
    "    print(\"number not found\")\n",
    "else :\n",
    "    print(\"found\")"
   ]
  },
  {
   "cell_type": "code",
   "execution_count": null,
   "metadata": {},
   "outputs": [],
   "source": []
  }
 ],
 "metadata": {
  "kernelspec": {
   "display_name": "Python 3",
   "language": "python",
   "name": "python3"
  },
  "language_info": {
   "codemirror_mode": {
    "name": "ipython",
    "version": 3
   },
   "file_extension": ".py",
   "mimetype": "text/x-python",
   "name": "python",
   "nbconvert_exporter": "python",
   "pygments_lexer": "ipython3",
   "version": "3.8.5"
  }
 },
 "nbformat": 4,
 "nbformat_minor": 4
}
