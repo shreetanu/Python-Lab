{
 "cells": [
  {
   "cell_type": "code",
   "execution_count": 7,
   "metadata": {},
   "outputs": [
    {
     "name": "stdout",
     "output_type": "stream",
     "text": [
      "Enter the number:5\n",
      "Divisible by 5\n"
     ]
    }
   ],
   "source": [
    "x = input(\"Enter the number:\")\n",
    "x = int(x)\n",
    "if x%5 == 0 :\n",
    "    print(\"Divisible by 5\")\n",
    "else:\n",
    "    print(\"Not divisible by 5\")"
   ]
  },
  {
   "cell_type": "code",
   "execution_count": 6,
   "metadata": {},
   "outputs": [
    {
     "name": "stdout",
     "output_type": "stream",
     "text": [
      "Enter the number:5\n",
      "Odd\n"
     ]
    }
   ],
   "source": [
    "x = input(\"Enter the number:\")\n",
    "if int(x)%2 == 0 :\n",
    "    print(\"Even\")\n",
    "else:\n",
    "    print(\"Odd\")"
   ]
  },
  {
   "cell_type": "code",
   "execution_count": 8,
   "metadata": {},
   "outputs": [
    {
     "name": "stdout",
     "output_type": "stream",
     "text": [
      "Please Enter a Value of a Quadratic Equation : 4\n",
      "Please Enter b Value of a Quadratic Equation : 5\n",
      "Please Enter c Value of a Quadratic Equation : 10\n",
      "Two Distinct Complex Roots Exists: root1 = -0.62+1.45 and root2 = -0.62-1.45\n"
     ]
    }
   ],
   "source": [
    "import math\n",
    "\n",
    "a = int(input(\"Please Enter a Value of a Quadratic Equation : \"))\n",
    "b = int(input(\"Please Enter b Value of a Quadratic Equation : \"))\n",
    "c = int(input(\"Please Enter c Value of a Quadratic Equation : \"))\n",
    "\n",
    "discriminant = (b * b) - (4 * a * c)\n",
    "\n",
    "if(discriminant > 0):\n",
    "    root1 = (-b + math.sqrt(discriminant) / (2 * a))\n",
    "    root2 = (-b - math.sqrt(discriminant) / (2 * a))\n",
    "    print(\"Two Distinct Real Roots Exists: root1 = %.2f and root2 = %.2f\" %(root1, root2))\n",
    "elif(discriminant == 0):\n",
    "    root1 = root2 = -b / (2 * a)\n",
    "    print(\"Two Equal and Real Roots Exists: root1 = %.2f and root2 = %.2f\" %(root1, root2))\n",
    "elif(discriminant < 0):\n",
    "    root1 = root2 = -b / (2 * a)\n",
    "    imaginary = math.sqrt(-discriminant) / (2 * a)\n",
    "    print(\"Two Distinct Complex Roots Exists: root1 = %.2f+%.2f and root2 = %.2f-%.2f\" %(root1, imaginary, root2, imaginary))"
   ]
  },
  {
   "cell_type": "code",
   "execution_count": 11,
   "metadata": {},
   "outputs": [
    {
     "name": "stdout",
     "output_type": "stream",
     "text": [
      "Enter your percentage 67\n",
      "B\n"
     ]
    }
   ],
   "source": [
    "per = int(input(\"Enter your percentage \"))\n",
    "if per < 40 :\n",
    "    print(\"NC\")\n",
    "elif per>=40 and per < 50 :\n",
    "    print(\"D\")\n",
    "elif per>=50 and per < 60 :\n",
    "    print(\"C\")\n",
    "elif per>=60 and per < 70 :\n",
    "    print(\"B\")\n",
    "elif per>=70 and per < 80 :\n",
    "    print(\"A\")\n",
    "else :\n",
    "    print(\"O\")\n",
    "\n",
    "    "
   ]
  },
  {
   "cell_type": "code",
   "execution_count": 18,
   "metadata": {},
   "outputs": [
    {
     "name": "stdout",
     "output_type": "stream",
     "text": [
      "Enter your units56\n",
      "The bill is  28.0\n"
     ]
    }
   ],
   "source": [
    "units = int(input(\"Enter your units\"))\n",
    "if units <= 200 :\n",
    "    print(\"The bill is \",units*0.5)\n",
    "elif units>=201 and units<=500 :\n",
    "    print(\"The bill is \",units*1)\n",
    "elif units>=501 and units<=1000 :\n",
    "    print(\"The bill is \",units*2.5)\n",
    "elif units>=1001 and units<=1500 :\n",
    "    print(\"The bill is \",units*3.5)\n",
    "elif units>=1501 and units<=2500 :\n",
    "    print(\"The bill is \",units*5)\n",
    "else :\n",
    "    print(\"The bill is \",units*10)\n",
    "\n",
    "    "
   ]
  },
  {
   "cell_type": "code",
   "execution_count": null,
   "metadata": {},
   "outputs": [],
   "source": []
  }
 ],
 "metadata": {
  "kernelspec": {
   "display_name": "Python 3",
   "language": "python",
   "name": "python3"
  },
  "language_info": {
   "codemirror_mode": {
    "name": "ipython",
    "version": 3
   },
   "file_extension": ".py",
   "mimetype": "text/x-python",
   "name": "python",
   "nbconvert_exporter": "python",
   "pygments_lexer": "ipython3",
   "version": "3.8.5"
  }
 },
 "nbformat": 4,
 "nbformat_minor": 4
}
